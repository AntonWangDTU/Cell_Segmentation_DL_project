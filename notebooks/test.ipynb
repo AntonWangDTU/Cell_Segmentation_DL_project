{
 "cells": [
  {
   "cell_type": "code",
   "execution_count": 4,
   "id": "f59e05db-7f5e-4e22-b011-b9bf6944abc7",
   "metadata": {},
   "outputs": [
    {
     "name": "stdout",
     "output_type": "stream",
     "text": [
      "how_to_use_jupyter_gpu.txt  image_loader.ipynb\ttest.ipynb\n"
     ]
    }
   ],
   "source": [
    "!"
   ]
  }
 ],
 "metadata": {
  "kernelspec": {
   "display_name": "Python 3 (ipykernel)",
   "language": "python",
   "name": "python3"
  },
  "language_info": {
   "codemirror_mode": {
    "name": "ipython",
    "version": 3
   },
   "file_extension": ".py",
   "mimetype": "text/x-python",
   "name": "python",
   "nbconvert_exporter": "python",
   "pygments_lexer": "ipython3",
   "version": "3.10.15"
  }
 },
 "nbformat": 4,
 "nbformat_minor": 5
}
