{
 "cells": [
  {
   "cell_type": "markdown",
   "id": "c7af427e-928e-4856-aaf9-1b55e8a4830b",
   "metadata": {},
   "source": [
    "### This is a notebook for comparing predicted segmentation with ground truth segmentations"
   ]
  },
  {
   "cell_type": "code",
   "execution_count": 35,
   "id": "f59e05db-7f5e-4e22-b011-b9bf6944abc7",
   "metadata": {},
   "outputs": [],
   "source": [
    "import numpy as np\n",
    "from cellpose import utils, dynamics, metrics\n",
    "from numba import jit\n",
    "from scipy.optimize import linear_sum_assignment\n",
    "from scipy.ndimage import convolve, mean\n",
    "\n",
    "\n"
   ]
  },
  {
   "cell_type": "code",
   "execution_count": 66,
   "id": "19df1c42-bb5d-4bbc-a7c5-cd6f324e27cb",
   "metadata": {},
   "outputs": [
    {
     "name": "stdout",
     "output_type": "stream",
     "text": [
      "29\n"
     ]
    }
   ],
   "source": [
    "x = \"tile_0002_0029_seg.npy\"\n",
    "\n",
    "print(x.split('_')[-2][2:])"
   ]
  },
  {
   "cell_type": "markdown",
   "id": "de85c031-52d0-4c21-9409-a97f7c599985",
   "metadata": {},
   "source": [
    "### Loading of *_seg.npy files which contains "
   ]
  },
  {
   "cell_type": "code",
   "execution_count": 72,
   "id": "de68e21d-4fe4-4760-a05d-780608744484",
   "metadata": {},
   "outputs": [
    {
     "name": "stdout",
     "output_type": "stream",
     "text": [
      "Number of .npy files loaded: 8\n",
      "['../data/groundtruth_sample/tile_0002_0025_seg.npy', '../data/groundtruth_sample/tile_0002_0026_seg.npy', '../data/groundtruth_sample/tile_0002_0027_seg.npy', '../data/groundtruth_sample/tile_0002_0028_seg.npy', '../data/groundtruth_sample/tile_0002_0029_seg.npy', '../data/groundtruth_sample/tile_0002_0030_seg.npy', '../data/groundtruth_sample/tile_0002_0031_seg.npy', '../data/groundtruth_sample/tile_0002_0033_seg.npy']\n",
      "['../data/predicted_sample/tile_0002_0025_seg.npy', '../data/predicted_sample/tile_0002_0026_seg.npy', '../data/predicted_sample/tile_0002_0027_seg.npy', '../data/predicted_sample/tile_0002_0028_seg.npy', '../data/predicted_sample/tile_0002_0029_seg.npy', '../data/predicted_sample/tile_0002_0030_seg.npy', '../data/predicted_sample/tile_0002_0031_seg.npy', '../data/predicted_sample/tile_0002_0033_seg.npy']\n"
     ]
    }
   ],
   "source": [
    "import numpy as np\n",
    "import glob\n",
    "\n",
    "# Path to directory containing .npy files\n",
    "groundtruth_files_path = \"../data/groundtruth_sample/\"\n",
    "predicted_files_path = \"../data/predicted_sample/\"\n",
    "\n",
    "# Get list of all .npy files in the directory and sort them in numerical order\n",
    "groundtruth_files = sorted(glob.glob(f\"{groundtruth_files_path}/*.npy\"), key=lambda x: int(x.split('_')[-2][2:]))\n",
    "predicted_files = sorted(glob.glob(f\"{predicted_files_path}/*.npy\"), key=lambda x: int(x.split('_')[-2][2:]))\n",
    "\n",
    "# Load each .npy file into a list and extract only the 'masks' field\n",
    "groundtruth_list = [np.load(file, allow_pickle=True).item()['masks'] for file in groundtruth_files]\n",
    "predicted_list = [np.load(file, allow_pickle=True).item()['masks'] for file in predicted_files]\n",
    "\n",
    "print(\"Number of .npy files loaded:\", len(groundtruth_list))\n",
    "\n",
    "# Accessing the 'masks' directly from the lists\n",
    "masks_true = groundtruth_list[0]\n",
    "masks_pred = predicted_list[0]\n",
    "\n",
    "print(groundtruth_files)\n",
    "print(predicted_files)"
   ]
  },
  {
   "cell_type": "code",
   "execution_count": 69,
   "id": "a7962c53-6fa3-40a8-8636-da515c917b6c",
   "metadata": {},
   "outputs": [
    {
     "name": "stdout",
     "output_type": "stream",
     "text": [
      "average precision: (array([0., 0., 0.], dtype=float32), array([0., 0., 0.], dtype=float32), array([54., 54., 54.], dtype=float32), array([69., 69., 69.], dtype=float32))\n"
     ]
    }
   ],
   "source": [
    "avr_precision = metrics.average_precision(masks_true, masks_pred)\n",
    "print(\"average precision:\", aji)\n"
   ]
  }
 ],
 "metadata": {
  "kernelspec": {
   "display_name": "Python 3 (ipykernel)",
   "language": "python",
   "name": "python3"
  },
  "language_info": {
   "codemirror_mode": {
    "name": "ipython",
    "version": 3
   },
   "file_extension": ".py",
   "mimetype": "text/x-python",
   "name": "python",
   "nbconvert_exporter": "python",
   "pygments_lexer": "ipython3",
   "version": "3.10.15"
  }
 },
 "nbformat": 4,
 "nbformat_minor": 5
}
